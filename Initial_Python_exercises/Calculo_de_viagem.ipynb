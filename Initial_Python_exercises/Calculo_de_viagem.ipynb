{
  "nbformat": 4,
  "nbformat_minor": 0,
  "metadata": {
    "colab": {
      "provenance": [],
      "authorship_tag": "ABX9TyMG8W89o4bFXtmQwqOtmYnh",
      "include_colab_link": true
    },
    "kernelspec": {
      "name": "python3",
      "display_name": "Python 3"
    },
    "language_info": {
      "name": "python"
    }
  },
  "cells": [
    {
      "cell_type": "markdown",
      "metadata": {
        "id": "view-in-github",
        "colab_type": "text"
      },
      "source": [
        "<a href=\"https://colab.research.google.com/github/marcosdiezw/Unimed_BH_Bootcamp_Exercises/blob/main/Initial_Python_exercises/Calculo_de_viagem.ipynb\" target=\"_parent\"><img src=\"https://colab.research.google.com/assets/colab-badge.svg\" alt=\"Open In Colab\"/></a>"
      ]
    },
    {
      "cell_type": "markdown",
      "source": [
        "***\n",
        "# **<center> <font color=darkgreen size=10>CÁLCULO DE VIAGEM</font>**\n",
        "***"
      ],
      "metadata": {
        "id": "X3ZyZ_zwsFFa"
      }
    },
    {
      "cell_type": "markdown",
      "source": [
        "<center>\n",
        "<img src=\"https://i.wpimg.pl/985x0/m.autokult.pl/singer-911-racing-blue-d-d810c8b.jpg\" height=400 align=\"middle\">\n",
        "</center>"
      ],
      "metadata": {
        "id": "dS44II5jsE9C"
      }
    },
    {
      "cell_type": "markdown",
      "source": [
        "# **Desafio**\n",
        "\n",
        "> Rubens quer calcular e mostrar a quantidade de litros de combustível gastos em uma viagem de carro, sendo que seu carro faz 12 KM/L. Como ele não sabe fazer um programa que o auxilie nessa missão, ele te pede ajuda. Para efetuar o cálculo, deve-se fornecer o tempo gasto em horas na viagem e a velocidade média durante a mesma em km/h. Assim, você conseguirá passar para Rubens qual a distância percorrida e, em seguida, calcular quantos litros serão necessários para a viagem que ele quer fazer. Mostre o valor com 3 casas decimais após o ponto.\n",
        "\n",
        "## **Entrada**\n",
        "> O arquivo de entrada contém dois inteiros. O primeiro é o tempo gasto na viagem em horas e o segundo é a velocidade média durante a mesma em km/h.\n",
        "\n",
        "## **Saída**\n",
        "> Imprima a quantidade de litros necessária para realizar a viagem, com três dígitos após o ponto decimal.\n",
        "\n",
        "## **Exemplos**\n",
        "\n",
        "\n",
        "| **Exemplos de Entrada** | **Exemplos de Saída** |\n",
        "|:--------------------:|:---------------------:| \n",
        "|10 85 |70.833|\n",
        "|22 67 |128.833|\n"
      ],
      "metadata": {
        "id": "idqmP90KsEmz"
      }
    },
    {
      "cell_type": "markdown",
      "source": [
        "# **Resolução**"
      ],
      "metadata": {
        "id": "Z45SOt9Lt4t2"
      }
    },
    {
      "cell_type": "code",
      "execution_count": null,
      "metadata": {
        "id": "0l0XJ_9OsAYZ"
      },
      "outputs": [],
      "source": [
        "valores = input().split() # A variável recebe a entrada manual e com o \"split\" separa em uma lista\n",
        "tempo = int(valores[0]) # Chamando pelos índices na lista obtida\n",
        "velocidade = int(valores[1])\n",
        "\n",
        "distancia = tempo*velocidade # Calculando a distância\n",
        "litros_gastos = distancia/12 # Calculando os litros gastos\n",
        "\n",
        "print(f\"{litros_gastos:.3f}\") # Limitando a três casas decimais e imprimindo"
      ]
    }
  ]
}