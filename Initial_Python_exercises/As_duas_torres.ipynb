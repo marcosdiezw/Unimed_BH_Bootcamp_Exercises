{
  "nbformat": 4,
  "nbformat_minor": 0,
  "metadata": {
    "colab": {
      "provenance": [],
      "toc_visible": true,
      "authorship_tag": "ABX9TyN/n+0bHNv/NbWueldx6tHQ",
      "include_colab_link": true
    },
    "kernelspec": {
      "name": "python3",
      "display_name": "Python 3"
    },
    "language_info": {
      "name": "python"
    }
  },
  "cells": [
    {
      "cell_type": "markdown",
      "metadata": {
        "id": "view-in-github",
        "colab_type": "text"
      },
      "source": [
        "<a href=\"https://colab.research.google.com/github/marcosdiezw/Unimed_BH_Bootcamp_Exercises/blob/main/Initial_Python_exercises/As_duas_torres.ipynb\" target=\"_parent\"><img src=\"https://colab.research.google.com/assets/colab-badge.svg\" alt=\"Open In Colab\"/></a>"
      ]
    },
    {
      "cell_type": "markdown",
      "source": [
        "***\n",
        "# **<center> <font color=darkblue size=10>AS DUAS TORRES</font>**\n",
        "***"
      ],
      "metadata": {
        "id": "lfkMPUlUXIA1"
      }
    },
    {
      "cell_type": "markdown",
      "source": [
        "<center>\n",
        "<img src=\"data:image/jpeg;base64,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\" align=\"middle\">\n",
        "</center>"
      ],
      "metadata": {
        "id": "Rs16HmniXPJx"
      }
    },
    {
      "cell_type": "markdown",
      "source": [
        "# **Desafio**\n",
        "\n",
        "> Saruman, o Branco, um grande mago da Terra-média, traiu os bons costumes e se filiou ao lorde do mal, Sauron. Sauron comanda a torre de Minas Morgul, que abriga um dos seus mais temidos servos, o Rei Bruxo de Angmar, um dos Nazgûl (antigos reis humanos que foram corrompidos pelos poderes dos anéis de Sauron). Saruman comanda a torre de Orthanc, onde cria seus servos Uruk-hai, orcs mais terríveis que os convencionais. Para comunicação, eles utilizam as relíquias esféricas chamadas Palantír, que ficam no topo de suas torres.\n",
        "A Terra-média avança cada vez mais em tecnologia, muito impulsionada pelas guerras que a acometem diariamente. Um dos problemas que tem atrapalhado sua população é a Interferência de Comunicação Mágica (ICM). Os estudiosos de Minas Tirith, grande cidadela de Gondor, concluíram que para calcular o ICM para Palantír’s, basta dividir a distância entre os dois Palantír’s, pela soma do diâmetro dos mesmos. Gandalf, o Cinza, chegou a questionar essa conclusão, alegando que ela não fazia muito sentido, mas ele mesmo concluiu que dar sentido às coisas não faz sentido.\n",
        "Saruman e Sauron precisam de uma comunicação estável, pois têm medo que Frodo e seus amigos consigam atrapalhar seus planos, portanto, querem saber quanto de ICM há na comunicação de seus Palantír’s, para que saibam quanto de magia devem empregar na comunicação.\n",
        "\n",
        "## **Entrada**\n",
        "> A entrada é composta por 3 inteiros, **N**(0 < **N** < 10000), **X** e **Y**(0 < **X**, **Y** < 100), que indicam, respectivamente, a distância entre os Palantír, o diâmetro do Palantír de Sauron e o diâmetro do Palantír de Saruman.\n",
        "\n",
        "## **Saída**\n",
        "> Um valor real indicando o ICM da comunicação dos Palatír de Sauron e Saruman, com 2 casas decimais.\n",
        "\n",
        "## **Exemplos**\n",
        "\n",
        "\n",
        "| **Exemplos de Entrada** | **Exemplos de Saída** |\n",
        "|:--------------------:|:---------------------:| \n",
        "|    100  2  2     |25.00|\n",
        "|    200  3  8     |18.18|\n",
        "\n",
        "</font>"
      ],
      "metadata": {
        "id": "ahVfbnXBU_MA"
      }
    },
    {
      "cell_type": "markdown",
      "source": [
        "# **Resolução**"
      ],
      "metadata": {
        "id": "VPAP8YcGU52g"
      }
    },
    {
      "cell_type": "code",
      "source": [
        "entrada = input().split() # A variável recebe a entrada manual e com o \"split\" separa em uma lista\n",
        "distancia = int(entrada[0]) # Chamando pelos índices na lista obtida\n",
        "diametro1 = int(entrada[1])\n",
        "diametro2 = int(entrada[2])\n",
        "\n",
        "icm = distancia/(diametro1+diametro2) # Calculando o ICM\n",
        "print(f\"{icm:.2f}\")  # Limitando a duas casas decimais e imprimindo"
      ],
      "metadata": {
        "id": "15tVhOBRa9hh"
      },
      "execution_count": null,
      "outputs": []
    }
  ]
}