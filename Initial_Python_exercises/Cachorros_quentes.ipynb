{
  "nbformat": 4,
  "nbformat_minor": 0,
  "metadata": {
    "colab": {
      "provenance": [],
      "collapsed_sections": [],
      "authorship_tag": "ABX9TyP0hdApvyFtYGwuw4L4pJOc",
      "include_colab_link": true
    },
    "kernelspec": {
      "name": "python3",
      "display_name": "Python 3"
    },
    "language_info": {
      "name": "python"
    }
  },
  "cells": [
    {
      "cell_type": "markdown",
      "metadata": {
        "id": "view-in-github",
        "colab_type": "text"
      },
      "source": [
        "<a href=\"https://colab.research.google.com/github/marcosdiezw/Unimed_BH_Bootcamp_Exercises/blob/main/Initial_Python_exercises/Cachorros_quentes.ipynb\" target=\"_parent\"><img src=\"https://colab.research.google.com/assets/colab-badge.svg\" alt=\"Open In Colab\"/></a>"
      ]
    },
    {
      "cell_type": "markdown",
      "source": [
        "***\n",
        "# **<center> <font color=red size=10>CACHORROS-QUENTES</font>**\n",
        "***"
      ],
      "metadata": {
        "id": "GpOH_2Atgd6F"
      }
    },
    {
      "cell_type": "markdown",
      "source": [
        "<center>\n",
        "<img src=\"https://img.itdg.com.br/tdg/images/recipes/000/119/770/357545/357545_original.jpg?mode=crop&width=533&height=300\" align=\"middle\">\n",
        "</center>"
      ],
      "metadata": {
        "id": "fKuk0Y3fggte"
      }
    },
    {
      "cell_type": "markdown",
      "source": [
        "# **Desafio**\n",
        "\n",
        "> Em 2012 foi alcançado um novo recorde mundial na famosa Competição de Cachorros-Quentes do Nathan: o campeão, Joey Chestnut, devorou 68 cachorros-quentes em dez minutos, um aumento incrível em relação aos 62 sanduíches devorados pelo mesmo Chestnut em 2011.<br><br>\n",
        "O restaurante Nathan’s Famous Corporation, localizado no Brooklyn, NY, é o responsável pela competição. Eles produzem deliciosos cachorros-quentes, mundialmente famosos, mas quando o assunto é matemática eles não são tão bons. Eles desejam ser listados no Livro de Recordes do Guinness, mas para isso devem preencher um formulário descrevendo os fatos básicos da competição. Em particular, eles devem informar o número médio de cachorros-quentes consumidos pelos participantes durante a competição.<br><br>\n",
        "Você pode ajudá-los? Eles prometeram pagá-lo com um dos seus saborosos cachorros-quentes. Dados o número total de cachorros-quentes consumidos e o número total de participantes na competição, você deve escrever um programa para determinar o número médio de cachorros-quentes consumidos pelos participantes.\n",
        "\n",
        "## **Entrada**\n",
        "> A entrada consiste de uma única linha que contém dois inteiros **H** e **P** (1 ≤ **H**, **P** ≤ 1000) indicando respectivamente o número total de cachorros-quentes consumidos e o número total de participantes na competição.\n",
        "\n",
        "## **Saída**\n",
        "> Seu programa deve produzir uma única linha com um número racional representando o número médio de cachorros-quentes consumidos pelos participantes. O resultado deve ser escrito como um número racional com exatamente dois dígitos após o ponto decimal, arredondado se necessário.\n",
        "\n",
        "## **Exemplos**\n",
        "\n",
        "\n",
        "| **Exemplos de Entrada** | **Exemplos de Saída** |\n",
        "|:--------------------:|:---------------------:| \n",
        "|10 90 |0.11|\n",
        "|840 11 |76.36|\n",
        "|1  50  |0.02|\n",
        "|34 1000 |0.03|\n",
        "|35 1000 |0.04|\n",
        "|34 1000 |0.03|"
      ],
      "metadata": {
        "id": "0qvIFHyMhUJy"
      }
    },
    {
      "cell_type": "markdown",
      "source": [
        "# **Resolução**"
      ],
      "metadata": {
        "id": "urQRwb8MiJ55"
      }
    },
    {
      "cell_type": "code",
      "execution_count": null,
      "metadata": {
        "id": "vrgxAIAUgNYO"
      },
      "outputs": [],
      "source": [
        "valores = input().split() # A variável recebe a entrada manual e com o \"split\" separa em uma lista\n",
        "h = int(valores[0]) # Chamando pelos índices na lista obtida\n",
        "p = int(valores[1]) \n",
        "media = h/p # Calculando a média solicitada\n",
        "print(f\"{media:.2f}\") # Limitando a duas casas decimais e imprimindo"
      ]
    }
  ]
}